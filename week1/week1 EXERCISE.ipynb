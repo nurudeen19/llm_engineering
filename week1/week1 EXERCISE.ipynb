{
 "cells": [
  {
   "cell_type": "markdown",
   "id": "fe12c203-e6a6-452c-a655-afb8a03a4ff5",
   "metadata": {},
   "source": [
    "# End of week 1 exercise\n",
    "\n",
    "To demonstrate your familiarity with OpenAI API, and also Ollama, build a tool that takes a technical question,  \n",
    "and responds with an explanation. This is a tool that you will be able to use yourself during the course!"
   ]
  },
  {
   "cell_type": "code",
   "execution_count": 42,
   "id": "c1070317-3ed9-4659-abe3-828943230e03",
   "metadata": {},
   "outputs": [],
   "source": [
    "# imports\n",
    "import os\n",
    "import requests\n",
    "import json\n",
    "from typing import List\n",
    "from dotenv import load_dotenv\n",
    "from bs4 import BeautifulSoup\n",
    "from IPython.display import Markdown, display, update_display\n",
    "from openai import OpenAI"
   ]
  },
  {
   "cell_type": "code",
   "execution_count": 43,
   "id": "4a456906-915a-4bfd-bb9d-57e505c5093f",
   "metadata": {},
   "outputs": [],
   "source": [
    "# constants\n",
    "\n",
    "MODEL_GPT = 'gpt-4o-mini'\n",
    "MODEL_LLAMA = 'llama3.1:8b'\n",
    "OLLAMA_API = \"http://localhost:11434/api/chat\"\n",
    "HEADERS = {\"Content-Type\": \"application/json\"}"
   ]
  },
  {
   "cell_type": "code",
   "execution_count": 44,
   "id": "a8d7923c-5f28-4c30-8556-342d7c8497c1",
   "metadata": {},
   "outputs": [],
   "source": [
    "# set up environment\n",
    "system_prompt = \"You are an expert AI assistant specializing in technical and analytical problem-solving.\\\n",
    "Your role is to provide accurate, detailed, and well-structured answers to technical questions across domains such as programming,\\\n",
    "engineering, mathematics, physics, computer science, and related fields.. \\n\"\n",
    "system_prompt += \"Guidelines for Responses:\"\n",
    "system_prompt += \"\"\"\n",
    "Accuracy & Precision: Prioritize correctness. If uncertain, acknowledge limitations and suggest possible approaches.\n",
    "\n",
    "Depth & Explanation: Break down complex concepts into understandable parts. Use analogies, examples, or diagrams (described textually) where helpful.\n",
    "Include relevant formulas, code snippets, or pseudocode when applicable.\n",
    "\n",
    "Structured Format: Direct Answer: Start with a concise summary of the solution.\n",
    "\n",
    "Step-by-Step Explanation: Elaborate on reasoning, assumptions, and methodology.\n",
    "\n",
    "References/Caveats: Cite sources (if applicable) and note edge cases or limitations.\n",
    "\n",
    "Audience Awareness: Adapt explanations to the user’s expertise level (specify if beginner/intermediate/expert).\n",
    "\n",
    "Engagement: Encourage follow-up questions for clarification.\n",
    "\"\"\"\n",
    "system_prompt += \"\"\"\n",
    "User: How does Dijkstra’s algorithm work?\n",
    "You:\n",
    "Dijkstra’s algorithm finds the shortest path between nodes in a graph with non-negative edge weights. Here’s how it works:\n",
    "\n",
    "Initialization: Assign a tentative distance (0 for the source node, ∞ for others).\n",
    "\n",
    "Iteration: Select the unvisited node with the smallest distance, update its neighbors’ distances, and mark it as visited.\n",
    "\n",
    "Termination: Repeat until all nodes are visited or the target is reached.\n",
    "[Further details on priority queues, time complexity (O((V+E) log V)), and example walkthrough provided if requested.]\n",
    "\"\"\""
   ]
  },
  {
   "cell_type": "code",
   "execution_count": null,
   "id": "72520445-a8b0-47b6-a6e6-1a5c5ad7ef86",
   "metadata": {},
   "outputs": [],
   "source": [
    "print(\"system prompt set\")"
   ]
  },
  {
   "cell_type": "code",
   "execution_count": 57,
   "id": "3f0d0137-52b0-47a8-81a8-11a90a010798",
   "metadata": {},
   "outputs": [],
   "source": [
    "# here is the question; type over this to ask something new\n",
    "\n",
    "question = \"\"\"\n",
    "Please explain what this code does and why:\n",
    "yield from {book.get(\"author\") for book in books if book.get(\"author\")}\n",
    "\"\"\""
   ]
  },
  {
   "cell_type": "code",
   "execution_count": null,
   "id": "60ce7000-a4a5-4cce-a261-e75ef45063b4",
   "metadata": {},
   "outputs": [],
   "source": [
    "# Get gpt-4o-mini to answer, with streaming"
   ]
  },
  {
   "cell_type": "code",
   "execution_count": 58,
   "id": "8f7c8ea8-4082-4ad0-8751-3301adcf6538",
   "metadata": {},
   "outputs": [],
   "source": [
    "# Get Llama 3.1 to answer\n",
    "model_initialization = OpenAI(base_url='http://localhost:11434/v1', api_key='ollama')\n",
    "def send_request(user_question=\"\"):\n",
    "    print(f\"provided question by user ...{user_question}!\\n\")\n",
    "    if not user_question:\n",
    "        user_question = question\n",
    "        print(\"no question provided using default question\")\n",
    "        print(f\"using default question ... {question}\")\n",
    "        if not question:\n",
    "            print(\"no question provided and default question is empty exiting now!!!\\n\")\n",
    "            print(\"please provide a question in other to proceed\\n\")\n",
    "            return\n",
    "        print(f\"sending prompt to model -> {user_question}\")\n",
    "        stream = model_initialization.chat.completions.create(\n",
    "            model=MODEL_LLAMA,\n",
    "            messages=[\n",
    "                {\"role\": \"system\", \"content\": system_prompt},\n",
    "                {\"role\": \"user\", \"content\": user_question}\n",
    "          ],\n",
    "          stream=True\n",
    "        )\n",
    "        response = \"\"\n",
    "        display_handle = display(Markdown(\"\"), display_id=True)\n",
    "        for chunk in stream:\n",
    "            response += chunk.choices[0].delta.content or ''\n",
    "            response = response.replace(\"```\",\"\").replace(\"markdown\", \"\")\n",
    "            update_display(Markdown(response), display_id=display_handle.display_id)\n",
    "    "
   ]
  },
  {
   "cell_type": "code",
   "execution_count": 47,
   "id": "322f0bed-9f42-4502-82fb-a008c678d6ed",
   "metadata": {},
   "outputs": [
    {
     "name": "stdout",
     "output_type": "stream",
     "text": [
      "provided question by user ...how to declare a function and constraint in python!\n",
      "\n",
      "sending prompt to model -> how to declare a function and constraint in python\n"
     ]
    },
    {
     "data": {
      "text/markdown": [
       "**Declaring Functions in Python**\n",
       "\n",
       "In Python, you can declare a function using the `def` keyword followed by the function name, parameters in parentheses, and an optional colon (`:`) separated by indentation.\n",
       "\n",
       "python\n",
       "def function_name(parameters):\n",
       "    # function body\n",
       "\n",
       "\n",
       "Example:\n",
       "\n",
       "python\n",
       "def greet(name: str) -> None:\n",
       "    print(f\"Hello, {name}!\")\n",
       "greet(\"John\")  # Output: Hello, John!\n",
       "\n",
       "\n",
       "**Declaring Constraints in Python**\n",
       "\n",
       "To enforce constraints on a function's parameters or variables, you can use the following techniques:\n",
       "\n",
       "1. **Type Hinting**: Use type hints to specify the expected data types for parameters and variables.\n",
       "python\n",
       "def add(a: int, b: int) -> int:\n",
       "    result = a + b\n",
       "    return result\n",
       "\n",
       "# Error: my_list is not an integer\n",
       "result = add(10, 20)\n",
       "print(result)  # Output: 30\n",
       "\n",
       "\n",
       "2. **Property Decorators**: Use decorators to create property-like behaviors.\n",
       "python\n",
       "class Person:\n",
       "    def __init__(self, name: str, age: int):\n",
       "        self._name = name\n",
       "        self.__age = age\n",
       "\n",
       "    @property\n",
       "    def age(self) -> None:  # No setter allowed for readonly properties\n",
       "        return self.__age\n",
       "\n",
       "    @age.setter\n",
       "    def age(self, value: int):  \n",
       "        if not isinstance(value, int):\n",
       "            raise ValueError(\"Age must be an integer\")\n",
       "        self.__age = value\n",
       "\n",
       "person = Person(\"John\", 30)\n",
       "print(person.age)  # Output: 30\n",
       "\n",
       "\n",
       "3. **Enums**: Use the `enum` module to create bounded variables.\n",
       "python\n",
       "from enum import Enum\n",
       "\n",
       "class Color(Enum):\n",
       "    RED = 1\n",
       "    GREEN = 2\n",
       "    BLUE = 3\n",
       "\n",
       "def paint(color: Color):\n",
       "    print(f\"Painting with {color.name}\")\n",
       "\n",
       "paint(Color.GREEN)  # Output: Painting with GREEN\n",
       "\n",
       "\n",
       "4. **Validation Functions**: Create separate functions to validate input data.\n",
       "python\n",
       "def is_non_negative(value: int) -> bool:\n",
       "    return value >= 0\n",
       "\n",
       "result = add(10, -20)\n",
       "if not is_non_negative(result):\n",
       "    print(\"Invalid result\")\n",
       "# ...\n",
       "\n",
       "\n",
       "Note that Python does not enforce constraints at runtime like other languages. Instead, it relies on code maintainability and type hinting to guide developers.\n",
       "\n",
       "References:\n",
       "\n",
       "* [Python Documentation: Functions](https://docs.python.org/3/tutorial/controlflow.html#definefunctions)\n",
       "* [PEP 484: Type Hints](https://www.python.org/dev/peps/pep-0484/)"
      ],
      "text/plain": [
       "<IPython.core.display.Markdown object>"
      ]
     },
     "metadata": {},
     "output_type": "display_data"
    }
   ],
   "source": [
    "send_request(\"how to declare a function and constraint in python\")"
   ]
  },
  {
   "cell_type": "code",
   "execution_count": 59,
   "id": "632243b1-7e3f-4686-8a2b-9cceb3daeafa",
   "metadata": {},
   "outputs": [
    {
     "name": "stdout",
     "output_type": "stream",
     "text": [
      "provided question by user ...!\n",
      "\n",
      "no question provided using default question\n",
      "using default question ... \n",
      "Please explain what this code does and why:\n",
      "yield from {book.get(\"author\") for book in books if book.get(\"author\")}\n",
      "\n",
      "sending prompt to model -> \n",
      "Please explain what this code does and why:\n",
      "yield from {book.get(\"author\") for book in books if book.get(\"author\")}\n",
      "\n"
     ]
    },
    {
     "data": {
      "text/markdown": [
       "Here's a breakdown of the code:\n",
       "\n",
       "**Code Analysis**\n",
       "\n",
       "The given code is written in Python, utilizing generator functions to create an iterator. It appears to be used as a part of a data processing or filtering mechanism.\n",
       "\n",
       "python\n",
       "yield from {book.get(\"author\") for book in books if book.get(\"author\")}\n",
       "\n",
       "\n",
       "Let's break down each component:\n",
       "\n",
       "1. **`{…}`**: This is a set comprehension, which generates a new set based on the provided expression. It filters out any `None` values since `.get()` returns `None` when the key doesn't exist.\n",
       "\n",
       "2. **`.get(\"author\", value)`**: The `.get()` method of dictionaries allows you to look up the value associated with the \"author\" key in the current book. If this key is not present, it defaults to some specified value (in this case, likely `None` although it's not explicitly provided in the given code).\n",
       "\n",
       "3. **`for book in books if book.get(\"author\")`**: This iterates over each book in the list. The conditional clause ensures only books with \"author\" information are considered.\n",
       "\n",
       "4. **`yield from …`**: This part of the expression effectively converts a set comprehension into an iterator for yield expressions inside a generator function. It yields successive items from the generated set, one at a time, saving memory compared to collecting all values in a list or other data structure.\n",
       "\n",
       "**Why it does what it does**\n",
       "\n",
       "The given code aims to generate an iterator that produces authors' names from a list of books where each book is expected to have an \"author\" key. It filters out items without this information and is optimized for use with generators instead of storing the results in memory as individual elements.\n",
       "\n",
       "For example, if you had a list of dictionaries representing your books:\n",
       "\n",
       "python\n",
       "books = [\n",
       "    {\"title\": \"Title 1\", \"author\": \"Author A\"},\n",
       "    {\"title\": \"Title 2\"},\n",
       "    {\"title\": \"Title 3\", \"author\": \"Author C\"}\n",
       "]\n",
       "\n",
       "\n",
       "Then the code above would yield the following as an iterator: `['Author A', 'Author C']`. This is useful in streams of data processing where you only need to iterate over part or all elements of a collection at any one time."
      ],
      "text/plain": [
       "<IPython.core.display.Markdown object>"
      ]
     },
     "metadata": {},
     "output_type": "display_data"
    }
   ],
   "source": [
    "#test api with no user question\n",
    "send_request()"
   ]
  },
  {
   "cell_type": "code",
   "execution_count": 50,
   "id": "641d0308-9761-4476-8cff-16bf120f0c30",
   "metadata": {},
   "outputs": [
    {
     "name": "stdout",
     "output_type": "stream",
     "text": [
      "provided question by user ...!\n",
      "\n",
      "no question provided using default question\n",
      "using default question ... None\n"
     ]
    }
   ],
   "source": [
    "#test if no default question is available\n",
    "send_request()"
   ]
  },
  {
   "cell_type": "code",
   "execution_count": null,
   "id": "02c56f27-e5b4-49b3-ad98-c195022d4dc2",
   "metadata": {},
   "outputs": [],
   "source": []
  }
 ],
 "metadata": {
  "kernelspec": {
   "display_name": "Python 3 (ipykernel)",
   "language": "python",
   "name": "python3"
  },
  "language_info": {
   "codemirror_mode": {
    "name": "ipython",
    "version": 3
   },
   "file_extension": ".py",
   "mimetype": "text/x-python",
   "name": "python",
   "nbconvert_exporter": "python",
   "pygments_lexer": "ipython3",
   "version": "3.11.13"
  }
 },
 "nbformat": 4,
 "nbformat_minor": 5
}
